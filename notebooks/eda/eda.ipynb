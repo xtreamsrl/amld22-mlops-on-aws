{
 "cells": [
  {
   "cell_type": "markdown",
   "metadata": {},
   "source": [
    "# Problem Statement\n",
    "It is January 2020.\n",
    "\n",
    "You just started your new position: you've joined the Applied Machine Learning team of an Italian utility. \n",
    "\n",
    "You barely had the time to meet your new colleagues, and you already have your first task. Up until now, the company relied on an external service to forecast the power demand of its customers. It is now time to internalize.\n",
    "\n",
    "Power demand forecasting is a critical task for every utility: power storage is neither cheap nor widely available, so the balance of the grid must be guaranteed at any time. The production must match the demand. In Italy, this is ensured by the free power market, where utilities can trade power production, and by *ad-hoc* actions performed by the Transmission System Operator (TSO).\n",
    "\n",
    "To safeguard the smooth operation of the system, utilities must produce day-ahead hourly forecasts of the power demand of their customers, and they get financial penalties for errors. \n",
    "\n",
    "<div class=\"alert alert-block alert-warning\">\n",
    "<b>Simplification.</b> \n",
    "\n",
    "We will consider daily forecasting of the Italian load, instead of hourly forecast of the demand from the customers of a specific company.\n",
    "</div>\n",
    "\n",
    "However, before jumping into day-ahead forecasting, you are required to produce some long-term models. They are baselines to be used in the case of any issue with the short-term predictors.\n",
    "\n",
    "Therefore, your initial problem statement is as follows.\n",
    "<div class=\"alert alert-block alert-info\">\n",
    "<b>Problem Statement</b> \n",
    "    \n",
    "Given Italian daily power load data from 2006 to 2019, forecast the daily load in 2020. In general, the model shall be able to produce one-year-ahead forecasts.\n",
    "</div>"
   ]
  },
  {
   "cell_type": "markdown",
   "metadata": {},
   "source": [
    "# Data\n",
    "Historical power load data can be retrieved from the [ENTSO-E portal](https://www.entsoe.eu/data/power-stats/), while newer series are avaiable on the websites of the national TSOs. In Italy, the TSO is Terna, and it [publishes power load and its own forecast](https://www.terna.it/en/electric-system/transparency-report/total-load).\n",
    "\n",
    "Fortunately, Matteo and Gabriele, the ML Engineers in your team, developed an automated pipeline to ensure that the dataset is constantly updated. The pipeline takes care of harmonizing the different data formats, and checks for outliers or missing data, so that you can trust the consistency of the processed dataset.\n",
    "\n",
    "Therefore, you can simply retrieve the data from the Amazon S3 URI they shared with you."
   ]
  },
  {
   "cell_type": "code",
   "execution_count": null,
   "metadata": {},
   "outputs": [],
   "source": [
    "# To read data from S3\n",
    "! pip install pandas s3fs --upgrade"
   ]
  },
  {
   "cell_type": "markdown",
   "metadata": {},
   "source": [
    "Please, restart the kernel if this is the first time you run this notebook.\n",
    "\n",
    "This is necessary to ensure that we can actually import the libraries we've just installed in the previous cells."
   ]
  },
  {
   "cell_type": "code",
   "execution_count": null,
   "metadata": {},
   "outputs": [],
   "source": [
    "import sagemaker\n",
    "import pandas as pd\n",
    "\n",
    "from statsmodels.graphics.tsaplots import plot_acf, plot_pacf"
   ]
  },
  {
   "cell_type": "code",
   "execution_count": null,
   "metadata": {},
   "outputs": [],
   "source": [
    "# Configuring the default size for matplotlib plots\n",
    "import matplotlib.pyplot as plt\n",
    "\n",
    "plt.rcParams[\"figure.figsize\"] = (20,6)"
   ]
  },
  {
   "cell_type": "markdown",
   "metadata": {},
   "source": [
    "We care about daily data, so we sum the load on the same day."
   ]
  },
  {
   "cell_type": "code",
   "execution_count": null,
   "metadata": {},
   "outputs": [],
   "source": [
    "NOW = '2019-12-31 23:59'\n",
    "raw_data_s3_path = \"s3://public-workshop/normalized_data/processed/2006_2022_data.parquet\"\n",
    "\n",
    "raw_df = pd.read_parquet(raw_data_s3_path)\n",
    "load_df = raw_df.resample('D').sum()[:NOW].copy()\n",
    "load_series = load_df.Load\n",
    "load_series.head()"
   ]
  },
  {
   "cell_type": "markdown",
   "metadata": {},
   "source": [
    "# Exploratory Data Analysis\n",
    "You have made your own homework: the features of the power load series are subject for an extensive literature, so you already know what to look for.\n",
    "\n",
    "You start by plotting the series and by zooming on a forthnight."
   ]
  },
  {
   "cell_type": "code",
   "execution_count": null,
   "metadata": {},
   "outputs": [],
   "source": [
    "load_series.plot();"
   ]
  },
  {
   "cell_type": "code",
   "execution_count": null,
   "metadata": {},
   "outputs": [],
   "source": [
    "load_series['2019-10-01':'2019-10-15'].plot();"
   ]
  },
  {
   "cell_type": "markdown",
   "metadata": {},
   "source": [
    "Some features are immediately visible:\n",
    "- the trend is decreasing\n",
    "- there are weekly and yearly seasonalities\n",
    "- summer is the period of highest consumption, due to air conditioning\n",
    "- the size of the peak changes from year to year, due to weather conditions\n",
    "- there are some drops, possibly caused by holidays, which reduce the demand from industrial plants\n",
    "\n",
    "You further explore the trend with a moving average filter."
   ]
  },
  {
   "cell_type": "code",
   "execution_count": null,
   "metadata": {},
   "outputs": [],
   "source": [
    "load_series.rolling(365).mean().plot();"
   ]
  },
  {
   "cell_type": "markdown",
   "metadata": {},
   "source": [
    "You have a look at the autocorrelation and partial autocorrelation function to further confirm the seasonality."
   ]
  },
  {
   "cell_type": "code",
   "execution_count": null,
   "metadata": {},
   "outputs": [],
   "source": [
    "plot_acf(load_series);"
   ]
  },
  {
   "cell_type": "code",
   "execution_count": null,
   "metadata": {},
   "outputs": [],
   "source": [
    "plot_pacf(load_series);"
   ]
  },
  {
   "cell_type": "markdown",
   "metadata": {},
   "source": [
    "The ACF shows a weekly seasonality, as well as a longer periodicity, which we may assume to be yearly. This fact can be confirmed by plotting the periodogram, an estimator of the spectral power density of the time series. The analysis is here omitted.\n",
    "\n",
    "Finally, you plot the power demand year-over-year, to better appreciate the effect of holidays and weather."
   ]
  },
  {
   "cell_type": "code",
   "execution_count": null,
   "metadata": {},
   "outputs": [],
   "source": [
    "year_over_year_df = pd.DataFrame({\n",
    "    'load': load_series,\n",
    "    'day_in_year': load_series.index.dayofyear,\n",
    "    'day_in_week': load_series.index.dayofweek, # Monday = 0, Sunday = 6\n",
    "    'year': load_series.index.year\n",
    "})\n",
    "for year, year_df in year_over_year_df.groupby('year'):\n",
    "    plt.plot(year_df.day_in_year, year_df.load.shift(year_df.day_in_week.iloc[0]), label=year)\n",
    "plt.legend()\n",
    "plt.xlabel('Adjusted day in year - if each year started on Monday')\n",
    "plt.show()"
   ]
  },
  {
   "cell_type": "markdown",
   "metadata": {},
   "source": [
    "# EDA conclusions\n",
    "You have confirmed the most notable feature of the power demand:\n",
    "- the trend is decreasing\n",
    "- there are strong weekly and yearly seasonalities\n",
    "- summer is the period of highest consumption, due to air conditioning\n",
    "- the size of the peak changes from year to year, due to weather conditions\n",
    "- there are some drops, possibly caused by holidays, which reduce the demand from industrial plants\n",
    "- trend and seasonal structure do not explain the effect of moving holidays (e.g. Easter) as well as the influence of weather"
   ]
  },
  {
   "cell_type": "markdown",
   "metadata": {},
   "source": [
    "# Next Steps\n",
    "You are getting on with the data, aren't you. But you may wonder: how did Matteo and Gabriele retrieve that data in the first place?"
   ]
  }
 ],
 "metadata": {
  "kernelspec": {
   "display_name": "Python 3 (Data Science)",
   "language": "python",
   "name": "python3__SAGEMAKER_INTERNAL__arn:aws:sagemaker:eu-west-1:470317259841:image/datascience-1.0"
  },
  "language_info": {
   "codemirror_mode": {
    "name": "ipython",
    "version": 3
   },
   "file_extension": ".py",
   "mimetype": "text/x-python",
   "name": "python",
   "nbconvert_exporter": "python",
   "pygments_lexer": "ipython3",
   "version": "3.7.10"
  }
 },
 "nbformat": 4,
 "nbformat_minor": 4
}
