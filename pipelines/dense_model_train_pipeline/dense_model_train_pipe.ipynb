{
 "cells": [
  {
   "cell_type": "markdown",
   "metadata": {},
   "source": [
    "# Dense model | Pipeline version\n",
    "You need to develop a short-term predictor. And you need to do it quickly.\n",
    "\n",
    "<div class=\"alert alert-block alert-info\">\n",
    "<b>Problem Statement</b> \n",
    "    \n",
    "Given Italian daily power load data from 2006 to day $t$, predict the load on day $t+1$.\n",
    "</div>\n",
    "\n",
    "Your first idea is an autoregressive model. You want to be flexible, so you opt for a dense neural network. By no means it is the state of the art, but as a first shot is will do.\n",
    "\n",
    "<div class=\"alert alert-block alert-info\">\n",
    "<b>What's new in this notebook?</b> \n",
    "    \n",
    "In this notebook, we will show how you can automate the data processing, model training, model saving and model deploying by using Sagemaker Pipelines.\n",
    "</div>"
   ]
  },
  {
   "cell_type": "markdown",
   "metadata": {},
   "source": [
    "# Setup\n",
    "Again, you update the default packages in SageMaker studio.\n",
    "\n",
    "Please, restart the kernel if this is the first time you run this notebook: it is necessary to ensure that we can actually import the libraries we've just installed in the previous cells."
   ]
  },
  {
   "cell_type": "code",
   "execution_count": 1,
   "metadata": {},
   "outputs": [
    {
     "name": "stdout",
     "output_type": "stream",
     "text": [
      "/opt/conda/lib/python3.7/site-packages/secretstorage/dhcrypto.py:16: CryptographyDeprecationWarning: int_from_bytes is deprecated, use int.from_bytes instead\n",
      "  from cryptography.utils import int_from_bytes\n",
      "/opt/conda/lib/python3.7/site-packages/secretstorage/util.py:25: CryptographyDeprecationWarning: int_from_bytes is deprecated, use int.from_bytes instead\n",
      "  from cryptography.utils import int_from_bytes\n",
      "Requirement already satisfied: pandas in /root/.local/lib/python3.7/site-packages (1.3.5)\n",
      "Requirement already satisfied: s3fs in /opt/conda/lib/python3.7/site-packages (2022.2.0)\n",
      "Requirement already satisfied: python-dateutil>=2.7.3 in /opt/conda/lib/python3.7/site-packages (from pandas) (2.8.1)\n",
      "Requirement already satisfied: pytz>=2017.3 in /opt/conda/lib/python3.7/site-packages (from pandas) (2019.3)\n",
      "Requirement already satisfied: numpy>=1.17.3 in /root/.local/lib/python3.7/site-packages (from pandas) (1.21.5)\n",
      "Requirement already satisfied: aiohttp<=4 in /opt/conda/lib/python3.7/site-packages (from s3fs) (3.8.1)\n",
      "Requirement already satisfied: fsspec==2022.02.0 in /opt/conda/lib/python3.7/site-packages (from s3fs) (2022.2.0)\n",
      "Requirement already satisfied: aiobotocore~=2.1.0 in /opt/conda/lib/python3.7/site-packages (from s3fs) (2.1.2)\n",
      "Requirement already satisfied: botocore<1.23.25,>=1.23.24 in /opt/conda/lib/python3.7/site-packages (from aiobotocore~=2.1.0->s3fs) (1.23.24)\n",
      "Requirement already satisfied: wrapt>=1.10.10 in /opt/conda/lib/python3.7/site-packages (from aiobotocore~=2.1.0->s3fs) (1.11.2)\n",
      "Requirement already satisfied: aioitertools>=0.5.1 in /opt/conda/lib/python3.7/site-packages (from aiobotocore~=2.1.0->s3fs) (0.8.0)\n",
      "Requirement already satisfied: charset-normalizer<3.0,>=2.0 in /opt/conda/lib/python3.7/site-packages (from aiohttp<=4->s3fs) (2.0.4)\n",
      "Requirement already satisfied: asynctest==0.13.0 in /opt/conda/lib/python3.7/site-packages (from aiohttp<=4->s3fs) (0.13.0)\n",
      "Requirement already satisfied: typing-extensions>=3.7.4 in /opt/conda/lib/python3.7/site-packages (from aiohttp<=4->s3fs) (4.0.1)\n",
      "Requirement already satisfied: multidict<7.0,>=4.5 in /opt/conda/lib/python3.7/site-packages (from aiohttp<=4->s3fs) (5.2.0)\n",
      "Requirement already satisfied: async-timeout<5.0,>=4.0.0a3 in /opt/conda/lib/python3.7/site-packages (from aiohttp<=4->s3fs) (4.0.1)\n",
      "Requirement already satisfied: frozenlist>=1.1.1 in /opt/conda/lib/python3.7/site-packages (from aiohttp<=4->s3fs) (1.2.0)\n",
      "Requirement already satisfied: aiosignal>=1.1.2 in /opt/conda/lib/python3.7/site-packages (from aiohttp<=4->s3fs) (1.2.0)\n",
      "Requirement already satisfied: attrs>=17.3.0 in /opt/conda/lib/python3.7/site-packages (from aiohttp<=4->s3fs) (19.3.0)\n",
      "Requirement already satisfied: yarl<2.0,>=1.0 in /opt/conda/lib/python3.7/site-packages (from aiohttp<=4->s3fs) (1.7.2)\n",
      "Requirement already satisfied: six>=1.5 in /opt/conda/lib/python3.7/site-packages (from python-dateutil>=2.7.3->pandas) (1.14.0)\n",
      "Requirement already satisfied: urllib3<1.27,>=1.25.4 in /opt/conda/lib/python3.7/site-packages (from botocore<1.23.25,>=1.23.24->aiobotocore~=2.1.0->s3fs) (1.26.7)\n",
      "Requirement already satisfied: jmespath<1.0.0,>=0.7.1 in /opt/conda/lib/python3.7/site-packages (from botocore<1.23.25,>=1.23.24->aiobotocore~=2.1.0->s3fs) (0.10.0)\n",
      "Requirement already satisfied: idna>=2.0 in /opt/conda/lib/python3.7/site-packages (from yarl<2.0,>=1.0->aiohttp<=4->s3fs) (2.8)\n",
      "\u001b[33mWARNING: Running pip as the 'root' user can result in broken permissions and conflicting behaviour with the system package manager. It is recommended to use a virtual environment instead: https://pip.pypa.io/warnings/venv\u001b[0m\n",
      "\u001b[33mWARNING: You are using pip version 21.3.1; however, version 22.0.4 is available.\n",
      "You should consider upgrading via the '/opt/conda/bin/python -m pip install --upgrade pip' command.\u001b[0m\n"
     ]
    }
   ],
   "source": [
    "# To read data from S3\n",
    "! pip install pandas s3fs --upgrade"
   ]
  },
  {
   "cell_type": "code",
   "execution_count": 2,
   "metadata": {},
   "outputs": [],
   "source": [
    "# 'ml.m4.xlarge' is included in the AWS Free Tier\n",
    "# 'ml.m5.xlarge' is NOT included in the AWS Free Tier, and is used only for the sake of the workshop. YOU MIGHT ENCUR INTO COSTS IF YOU DECIDE TO USE THIS MACHINE.\n",
    "INSTANCE_TYPE = 'ml.m4.xlarge'"
   ]
  },
  {
   "cell_type": "code",
   "execution_count": 3,
   "metadata": {},
   "outputs": [],
   "source": [
    "import boto3\n",
    "import sagemaker\n",
    "\n",
    "import pandas as pd\n",
    "from sklearn.model_selection import train_test_split\n",
    "from datetime import datetime, timedelta"
   ]
  },
  {
   "cell_type": "markdown",
   "metadata": {},
   "source": [
    "# Data gathering\n",
    "As in Fourier Regression."
   ]
  },
  {
   "cell_type": "code",
   "execution_count": 4,
   "metadata": {},
   "outputs": [],
   "source": [
    "boto_session = boto3.Session()\n",
    "sagemaker_session = sagemaker.Session()\n",
    "region = sagemaker_session.boto_region_name\n",
    "role = sagemaker.get_execution_role()\n",
    "sagemaker_client = boto_session.client(\"sagemaker\")\n",
    "sagemaker_bucket = sagemaker_session.default_bucket()\n",
    "main_prefix = \"amld22-workshop-sagemaker\"\n",
    "\n",
    "raw_data_s3_path = \"s3://public-workshop/normalized_data/processed/2006_2022_data.parquet\"\n",
    "raw_df = pd.read_parquet(raw_data_s3_path)\n",
    "resampled_df = raw_df.resample('D').sum()"
   ]
  },
  {
   "cell_type": "markdown",
   "metadata": {},
   "source": [
    "You use as **training** set the data until the end of 2019, and as **test** set the data until the end of May 2020.   \n",
    "To prepare the dataset for the neural network, you use a utility function to transform the load series into a dataframe of lagged features.   \n",
    "Everything concerning the shaping of the data can be found in the `prepare_training_data.py` file, which is used during the processing step of the pipeline that we will be creating in this notebook."
   ]
  },
  {
   "cell_type": "markdown",
   "metadata": {
    "jupyter": {
     "outputs_hidden": false
    },
    "pycharm": {
     "name": "#%%\n"
    }
   },
   "source": [
    "# Pipeline preparation"
   ]
  },
  {
   "cell_type": "markdown",
   "metadata": {},
   "source": [
    "Let us create an SKLearnProcessor, which we will be using within the pipeline."
   ]
  },
  {
   "cell_type": "code",
   "execution_count": 5,
   "metadata": {},
   "outputs": [],
   "source": [
    "from sagemaker.sklearn import SKLearnProcessor\n",
    "\n",
    "JOB_NAME = \"amld22workshop\"\n",
    "\n",
    "sklearn_processor = SKLearnProcessor(\n",
    "    framework_version=\"0.23-1\",\n",
    "    instance_type=INSTANCE_TYPE,\n",
    "    instance_count=1,\n",
    "    base_job_name=JOB_NAME,\n",
    "    role=role\n",
    ")"
   ]
  },
  {
   "cell_type": "markdown",
   "metadata": {},
   "source": [
    "Then, we create a Processing step that takes in the raw .parquet data. This step will resample the data, create the lagged features and then store it into S3."
   ]
  },
  {
   "cell_type": "code",
   "execution_count": 6,
   "metadata": {},
   "outputs": [
    {
     "name": "stdout",
     "output_type": "stream",
     "text": [
      "Raw data: s3://public-workshop/normalized_data/processed/2006_2022_data.parquet\n",
      "Training output data: s3://sagemaker-eu-west-1-919788038405/amld22-workshop-sagemaker/data/train_data/train.parquet\n"
     ]
    }
   ],
   "source": [
    "from sagemaker.workflow.steps import ProcessingStep\n",
    "from sagemaker.processing import ProcessingOutput, ProcessingInput\n",
    "\n",
    "data_bucket_path = f's3://{sagemaker_bucket}/{main_prefix}/data'\n",
    "output_train_path = f'{data_bucket_path}/train_data/train.parquet'\n",
    "print(f\"Raw data: {raw_data_s3_path}\\nTraining output data: {output_train_path}\")\n",
    "\n",
    "prepare_data_step = ProcessingStep(\n",
    "    name=\"GenerateTrainingData\",\n",
    "    processor=sklearn_processor,\n",
    "    inputs=[\n",
    "        ProcessingInput(\n",
    "            source=raw_data_s3_path,\n",
    "            destination=\"/opt/ml/processing/input\"\n",
    "        )\n",
    "    ],\n",
    "    outputs=[\n",
    "        ProcessingOutput(\n",
    "            output_name=\"train\",\n",
    "            destination=data_bucket_path,\n",
    "            source=\"/opt/ml/processing/train\"\n",
    "        )\n",
    "    ],\n",
    "    code=\"prepare_training_data.py\"\n",
    ")"
   ]
  },
  {
   "cell_type": "markdown",
   "metadata": {},
   "source": [
    "Next, we start working on the model. First, we create the Tensorflow estimator using our Python training script."
   ]
  },
  {
   "cell_type": "code",
   "execution_count": 7,
   "metadata": {},
   "outputs": [],
   "source": [
    "from sagemaker.tensorflow import TensorFlow\n",
    "\n",
    "# Hyperparameters\n",
    "NUM_OF_EPOCHS = 300\n",
    "BATCH_SIZE = 64\n",
    "LEARNING_RATE = 0.0001\n",
    "\n",
    "ff_estimator = TensorFlow(\n",
    "    entry_point=\"dense_model_train.py\",\n",
    "    role=role,\n",
    "    instance_count=1,\n",
    "    instance_type=INSTANCE_TYPE,\n",
    "    framework_version=\"2.4.1\",\n",
    "    py_version=\"py37\",\n",
    "    use_spot_instances = True,\n",
    "    max_run = (30 * 60),\n",
    "    max_wait = (50 * 60),\n",
    "    hyperparameters={\n",
    "        \"num_of_epochs\": NUM_OF_EPOCHS,\n",
    "        \"batch_size\": BATCH_SIZE,\n",
    "        \"learning_rate\": LEARNING_RATE,\n",
    "        \"version_number\": \"0000001\"\n",
    "    }\n",
    ")"
   ]
  },
  {
   "cell_type": "markdown",
   "metadata": {},
   "source": [
    "After we have created our estimator, we build a **Training step** that - after the processing step is complete - takes the estimator and trains it on the output data."
   ]
  },
  {
   "cell_type": "code",
   "execution_count": 8,
   "metadata": {},
   "outputs": [],
   "source": [
    "from sagemaker.workflow.steps import TrainingStep\n",
    "\n",
    "train_step = TrainingStep(\n",
    "    name=\"TrainModel\",\n",
    "    depends_on=[prepare_data_step.name],\n",
    "    estimator=ff_estimator,\n",
    "    inputs={\n",
    "        'training': output_train_path,\n",
    "    },\n",
    ")"
   ]
  },
  {
   "cell_type": "markdown",
   "metadata": {},
   "source": [
    "Once we are done with the **Training Step**, a **RegisterModel Step** will register the model with the AWS model registry."
   ]
  },
  {
   "cell_type": "code",
   "execution_count": 9,
   "metadata": {},
   "outputs": [
    {
     "name": "stdout",
     "output_type": "stream",
     "text": [
      "763104351884.dkr.ecr.eu-west-1.amazonaws.com/tensorflow-inference:2.4.1-cpu\n"
     ]
    }
   ],
   "source": [
    "from sagemaker.workflow.step_collections import RegisterModel\n",
    "from sagemaker.model import Model\n",
    "\n",
    "image_uri = sagemaker.image_uris.retrieve(\n",
    "        framework=\"tensorflow\",\n",
    "        region=region,\n",
    "        version=\"2.4.1\",\n",
    "        image_scope=\"inference\",\n",
    "        instance_type=INSTANCE_TYPE\n",
    ")\n",
    "\n",
    "model = Model(\n",
    "    image_uri=image_uri,\n",
    "    model_data=train_step.properties.ModelArtifacts.S3ModelArtifacts,\n",
    "    sagemaker_session=sagemaker_session,\n",
    "    role=role,\n",
    ")\n",
    "\n",
    "step_register = RegisterModel(\n",
    "    name=\"RegisterModel\",\n",
    "    model_package_group_name=\"covid-19-model\",\n",
    "    estimator=ff_estimator,\n",
    "    model_data=train_step.properties.ModelArtifacts.S3ModelArtifacts,\n",
    "    content_types=[\"text/csv\"],\n",
    "    response_types=[\"text/csv\"],\n",
    "    inference_instances=[INSTANCE_TYPE],\n",
    "    transform_instances=[INSTANCE_TYPE],\n",
    "    approval_status='PendingManualApproval'\n",
    ")\n",
    "\n",
    "print(image_uri)"
   ]
  },
  {
   "cell_type": "markdown",
   "metadata": {},
   "source": [
    "Finally, we create a **CreateModel Step** to create the SageMaker model."
   ]
  },
  {
   "cell_type": "code",
   "execution_count": 10,
   "metadata": {},
   "outputs": [],
   "source": [
    "from sagemaker.inputs import CreateModelInput\n",
    "from sagemaker.workflow.steps import CreateModelStep\n",
    "\n",
    "step_create_model = CreateModelStep(\n",
    "    name=\"CreateModel\",\n",
    "    model=model,\n",
    "    inputs= CreateModelInput(\n",
    "        instance_type=INSTANCE_TYPE,\n",
    "    ),\n",
    ")"
   ]
  },
  {
   "cell_type": "markdown",
   "metadata": {},
   "source": [
    "The last thing we need is just packaging all the steps together and give a nice name to our pipeline."
   ]
  },
  {
   "cell_type": "code",
   "execution_count": 11,
   "metadata": {},
   "outputs": [],
   "source": [
    "from sagemaker.workflow.pipeline import Pipeline\n",
    "\n",
    "pipeline = Pipeline(\n",
    "    name='Dense-training-pipeline',\n",
    "    steps=[\n",
    "        prepare_data_step,\n",
    "        train_step,\n",
    "        step_register,\n",
    "        step_create_model\n",
    "    ]\n",
    ")"
   ]
  },
  {
   "cell_type": "markdown",
   "metadata": {},
   "source": [
    "Once the pipeline is packaged, running it is as easy as calling a `.create()` followed by a `.start()`"
   ]
  },
  {
   "cell_type": "code",
   "execution_count": 12,
   "metadata": {},
   "outputs": [
    {
     "name": "stderr",
     "output_type": "stream",
     "text": [
      "No finished training job found associated with this estimator. Please make sure this estimator is only used for building workflow config\n",
      "No finished training job found associated with this estimator. Please make sure this estimator is only used for building workflow config\n"
     ]
    },
    {
     "name": "stdout",
     "output_type": "stream",
     "text": [
      "Exception: ClientError('An error occurred (ValidationException) when calling the CreatePipeline operation: Pipeline names must be unique within an AWS account and region. Pipeline with name (Dense-training-pipeline) already exists.')\n",
      "Pipeline already exists. Update and run!\n"
     ]
    },
    {
     "data": {
      "text/plain": [
       "_PipelineExecution(arn='arn:aws:sagemaker:eu-west-1:919788038405:pipeline/dense-training-pipeline/execution/s2tdw4m2usfq', sagemaker_session=<sagemaker.session.Session object at 0x7f64da3ce1d0>)"
      ]
     },
     "execution_count": 12,
     "metadata": {},
     "output_type": "execute_result"
    }
   ],
   "source": [
    "try:\n",
    "    pipeline.create(role_arn=role)\n",
    "except Exception as e:\n",
    "    print(f\"Exception: {repr(e)}\")\n",
    "    pipeline.update(role_arn=role)\n",
    "    print(\"Pipeline already exists. Update and run!\")\n",
    "\n",
    "pipeline.start()"
   ]
  },
  {
   "cell_type": "code",
   "execution_count": 13,
   "metadata": {},
   "outputs": [
    {
     "data": {
      "image/png": "[encoded data removed]",
      "text/plain": [
       "<IPython.core.display.Image object>"
      ]
     },
     "execution_count": 13,
     "metadata": {},
     "output_type": "execute_result"
    }
   ],
   "source": [
    "from IPython.display import Image\n",
    "Image(filename='pipeline.png') "
   ]
  },
  {
   "cell_type": "markdown",
   "metadata": {},
   "source": [
    "# Now we need to deploy the model"
   ]
  },
  {
   "cell_type": "markdown",
   "metadata": {},
   "source": [
    "first we need to fetch the model arn from the pipeline in order to create the model configuration"
   ]
  },
  {
   "cell_type": "code",
   "execution_count": 15,
   "metadata": {},
   "outputs": [],
   "source": [
    "sg_client = boto3.client('sagemaker')"
   ]
  },
  {
   "cell_type": "code",
   "execution_count": 38,
   "metadata": {},
   "outputs": [
    {
     "name": "stdout",
     "output_type": "stream",
     "text": [
      "{'PipelineExecutionArn': 'arn:aws:sagemaker:eu-west-1:919788038405:pipeline/dense-training-pipeline/execution/s2tdw4m2usfq', 'StartTime': datetime.datetime(2022, 3, 26, 0, 23, 29, 92000, tzinfo=tzlocal()), 'PipelineExecutionStatus': 'Executing', 'PipelineExecutionDisplayName': 'execution-1648254209180'}\n",
      "{'PipelineExecutionArn': 'arn:aws:sagemaker:eu-west-1:919788038405:pipeline/dense-training-pipeline/execution/3obbklnu59nj', 'StartTime': datetime.datetime(2022, 3, 25, 14, 42, 30, 343000, tzinfo=tzlocal()), 'PipelineExecutionStatus': 'Succeeded', 'PipelineExecutionDisplayName': 'execution-1648219350430'}\n",
      "{'PipelineExecutionArn': 'arn:aws:sagemaker:eu-west-1:919788038405:pipeline/dense-training-pipeline/execution/9jjet1879e7e', 'StartTime': datetime.datetime(2022, 3, 25, 14, 27, 25, 929000, tzinfo=tzlocal()), 'PipelineExecutionStatus': 'Failed', 'PipelineExecutionDisplayName': 'execution-1648218445986'}\n",
      "{'PipelineExecutionArn': 'arn:aws:sagemaker:eu-west-1:919788038405:pipeline/dense-training-pipeline/execution/o3hh1uzo28vm', 'StartTime': datetime.datetime(2022, 3, 25, 14, 14, 17, 940000, tzinfo=tzlocal()), 'PipelineExecutionStatus': 'Failed', 'PipelineExecutionDisplayName': 'execution-1648217658073'}\n",
      "arn:aws:sagemaker:eu-west-1:919788038405:pipeline/dense-training-pipeline/execution/s2tdw4m2usfq\n"
     ]
    }
   ],
   "source": [
    "import time\n",
    "time.sleep(10)\n",
    "\n",
    "pipeline_executions = sg_client.list_pipeline_executions(\n",
    "    PipelineName=pipeline.name,\n",
    "    CreatedAfter=datetime.now()-timedelta(days=1),\n",
    "    CreatedBefore=datetime.now(),\n",
    "    SortBy='CreationTime',\n",
    "    SortOrder='Descending'\n",
    ")['PipelineExecutionSummaries']\n",
    "\n",
    "for p in pipeline_executions:\n",
    "    print(p)\n",
    "\n",
    "pipeline_exec = pipeline_executions[0]['PipelineExecutionArn']\n",
    "print(pipeline_exec)"
   ]
  },
  {
   "cell_type": "code",
   "execution_count": 39,
   "metadata": {},
   "outputs": [
    {
     "data": {
      "text/plain": [
       "{'PipelineArn': 'arn:aws:sagemaker:eu-west-1:919788038405:pipeline/dense-training-pipeline',\n",
       " 'PipelineExecutionArn': 'arn:aws:sagemaker:eu-west-1:919788038405:pipeline/dense-training-pipeline/execution/s2tdw4m2usfq',\n",
       " 'PipelineExecutionDisplayName': 'execution-1648254209180',\n",
       " 'PipelineExecutionStatus': 'Executing',\n",
       " 'PipelineExperimentConfig': {'ExperimentName': 'dense-training-pipeline',\n",
       "  'TrialName': 's2tdw4m2usfq'},\n",
       " 'CreationTime': datetime.datetime(2022, 3, 26, 0, 23, 29, 92000, tzinfo=tzlocal()),\n",
       " 'LastModifiedTime': datetime.datetime(2022, 3, 26, 0, 23, 29, 92000, tzinfo=tzlocal()),\n",
       " 'CreatedBy': {'UserProfileArn': 'arn:aws:sagemaker:eu-west-1:919788038405:user-profile/d-964i8zo7pyh7/default-1648040213244',\n",
       "  'UserProfileName': 'default-1648040213244',\n",
       "  'DomainId': 'd-964i8zo7pyh7'},\n",
       " 'LastModifiedBy': {'UserProfileArn': 'arn:aws:sagemaker:eu-west-1:919788038405:user-profile/d-964i8zo7pyh7/default-1648040213244',\n",
       "  'UserProfileName': 'default-1648040213244',\n",
       "  'DomainId': 'd-964i8zo7pyh7'},\n",
       " 'ResponseMetadata': {'RequestId': '5f25af51-113b-4eda-9f0c-e40f0aaeb199',\n",
       "  'HTTPStatusCode': 200,\n",
       "  'HTTPHeaders': {'x-amzn-requestid': '5f25af51-113b-4eda-9f0c-e40f0aaeb199',\n",
       "   'content-type': 'application/x-amz-json-1.1',\n",
       "   'content-length': '868',\n",
       "   'date': 'Sat, 26 Mar 2022 00:30:31 GMT'},\n",
       "  'RetryAttempts': 0}}"
      ]
     },
     "execution_count": 39,
     "metadata": {},
     "output_type": "execute_result"
    }
   ],
   "source": [
    "pipeline_exec_desc = sg_client.describe_pipeline_execution(\n",
    "    PipelineExecutionArn=pipeline_exec\n",
    ")\n",
    "pipeline_exec_desc"
   ]
  },
  {
   "cell_type": "code",
   "execution_count": 43,
   "metadata": {},
   "outputs": [
    {
     "data": {
      "text/plain": [
       "[{'StepName': 'TrainModel',\n",
       "  'StartTime': datetime.datetime(2022, 3, 26, 0, 28, 41, 480000, tzinfo=tzlocal()),\n",
       "  'StepStatus': 'Executing',\n",
       "  'AttemptCount': 0,\n",
       "  'Metadata': {'TrainingJob': {'Arn': 'arn:aws:sagemaker:eu-west-1:919788038405:training-job/pipelines-s2tdw4m2usfq-trainmodel-w0ear3kzkm'}}},\n",
       " {'StepName': 'GenerateTrainingData',\n",
       "  'StartTime': datetime.datetime(2022, 3, 26, 0, 23, 30, 54000, tzinfo=tzlocal()),\n",
       "  'EndTime': datetime.datetime(2022, 3, 26, 0, 28, 40, 999000, tzinfo=tzlocal()),\n",
       "  'StepStatus': 'Succeeded',\n",
       "  'AttemptCount': 0,\n",
       "  'Metadata': {'ProcessingJob': {'Arn': 'arn:aws:sagemaker:eu-west-1:919788038405:processing-job/pipelines-s2tdw4m2usfq-generatetrainingdata-9yel4jorcw'}}}]"
      ]
     },
     "execution_count": 43,
     "metadata": {},
     "output_type": "execute_result"
    }
   ],
   "source": [
    "steps = sg_client.list_pipeline_execution_steps(\n",
    "    PipelineExecutionArn=pipeline_exec,\n",
    "    SortOrder='Descending'\n",
    ")['PipelineExecutionSteps']\n",
    "steps"
   ]
  },
  {
   "cell_type": "code",
   "execution_count": 45,
   "metadata": {},
   "outputs": [],
   "source": [
    "model_arn = None\n",
    "for step in steps:\n",
    "    if step['Metadata'].get('Model'):\n",
    "        model_arn = step['Metadata']['Model']['Arn']\n",
    "model_arn"
   ]
  },
  {
   "cell_type": "markdown",
   "metadata": {},
   "source": [
    "## Create configuration for endpoint"
   ]
  },
  {
   "cell_type": "code",
   "execution_count": 20,
   "metadata": {
    "collapsed": false,
    "jupyter": {
     "outputs_hidden": false
    },
    "pycharm": {
     "name": "#%%\n"
    }
   },
   "outputs": [
    {
     "name": "stdout",
     "output_type": "stream",
     "text": [
      "Endpoint Configuration Arn: arn:aws:sagemaker:eu-west-1:919788038405:endpoint-config/covid19-serverless-epc2022-03-26-00-23-29\n"
     ]
    }
   ],
   "source": [
    "from time import strftime, gmtime\n",
    "\n",
    "epc_name = \"covid19-serverless-epc\" + strftime(\"%Y-%m-%d-%H-%M-%S\", gmtime())\n",
    "\n",
    "endpoint_config_response = sg_client.create_endpoint_config(\n",
    "    EndpointConfigName=epc_name,\n",
    "    ProductionVariants=[\n",
    "        {\n",
    "            \"VariantName\": \"AllTraffic\",\n",
    "            \"ModelName\": model_arn.split('/')[-1],\n",
    "            \"ServerlessConfig\": {\n",
    "                \"MemorySizeInMB\": 4096,\n",
    "                \"MaxConcurrency\": 1,\n",
    "            },\n",
    "        },\n",
    "    ]\n",
    ")\n",
    "print(\"Endpoint Configuration Arn: \" + endpoint_config_response[\"EndpointConfigArn\"])"
   ]
  },
  {
   "cell_type": "markdown",
   "metadata": {},
   "source": [
    "## Deploy the model"
   ]
  },
  {
   "cell_type": "code",
   "execution_count": 30,
   "metadata": {
    "collapsed": false,
    "jupyter": {
     "outputs_hidden": false
    },
    "pycharm": {
     "name": "#%%\n"
    }
   },
   "outputs": [
    {
     "name": "stdout",
     "output_type": "stream",
     "text": [
      "Endpoint Arn: arn:aws:sagemaker:eu-west-1:919788038405:endpoint/covid19-serverless-ep2022-03-26-00-25-46\n"
     ]
    }
   ],
   "source": [
    "endpoint_name = \"covid19-serverless-ep\" + strftime(\"%Y-%m-%d-%H-%M-%S\", gmtime())\n",
    "create_endpoint_response = sg_client.create_endpoint(\n",
    "    EndpointName=endpoint_name,\n",
    "    EndpointConfigName=epc_name,\n",
    ")\n",
    "\n",
    "print(\"Endpoint Arn: \" + create_endpoint_response[\"EndpointArn\"])"
   ]
  },
  {
   "cell_type": "code",
   "execution_count": 22,
   "metadata": {},
   "outputs": [],
   "source": [
    "predictor = sagemaker.predictor.Predictor(\n",
    "    endpoint_name=endpoint_name, \n",
    "    serializer=sagemaker.serializers.CSVSerializer(),\n",
    "    deserializer=sagemaker.deserializers.JSONDeserializer()\n",
    ")"
   ]
  },
  {
   "cell_type": "code",
   "execution_count": 23,
   "metadata": {},
   "outputs": [],
   "source": [
    "raw_data_s3_path = \"s3://public-workshop/normalized_data/processed/2006_2022_data.parquet\"\n",
    "raw_df = pd.read_parquet(raw_data_s3_path)\n",
    "resampled_df = raw_df.resample('D').sum()"
   ]
  },
  {
   "cell_type": "code",
   "execution_count": 24,
   "metadata": {},
   "outputs": [],
   "source": [
    "data_df = resampled_df[:'2019-12-31 23:59'].copy()\n",
    "covid_df = resampled_df[:'2020-05-31 23:59'].copy()\n",
    "\n",
    "covid_len = covid_df.shape[0] - data_df.shape[0]"
   ]
  },
  {
   "cell_type": "code",
   "execution_count": 25,
   "metadata": {},
   "outputs": [],
   "source": [
    "# To transform a series of datapoints into a dataframe that contains the lagged features\n",
    "def build_lagged_df(series: pd.Series, n_lags: int) -> pd.DataFrame:\n",
    "    df = pd.DataFrame({series.name: series})\n",
    "    for i in range(1, n_lags + 1):\n",
    "        df[f'{series.name}_{i}'] = series.shift(i)\n",
    "    df = df.dropna()\n",
    "    return df"
   ]
  },
  {
   "cell_type": "code",
   "execution_count": 31,
   "metadata": {},
   "outputs": [
    {
     "name": "stdout",
     "output_type": "stream",
     "text": [
      "Train set length: 5106 | Test set length: 152\n"
     ]
    },
    {
     "data": {
      "text/html": [
       "<div>\n",
       "<style scoped>\n",
       "    .dataframe tbody tr th:only-of-type {\n",
       "        vertical-align: middle;\n",
       "    }\n",
       "\n",
       "    .dataframe tbody tr th {\n",
       "        vertical-align: top;\n",
       "    }\n",
       "\n",
       "    .dataframe thead th {\n",
       "        text-align: right;\n",
       "    }\n",
       "</style>\n",
       "<table border=\"1\" class=\"dataframe\">\n",
       "  <thead>\n",
       "    <tr style=\"text-align: right;\">\n",
       "      <th></th>\n",
       "      <th>Load</th>\n",
       "      <th>Load_1</th>\n",
       "      <th>Load_2</th>\n",
       "      <th>Load_3</th>\n",
       "      <th>Load_4</th>\n",
       "      <th>Load_5</th>\n",
       "      <th>Load_6</th>\n",
       "      <th>Load_7</th>\n",
       "    </tr>\n",
       "    <tr>\n",
       "      <th>Date</th>\n",
       "      <th></th>\n",
       "      <th></th>\n",
       "      <th></th>\n",
       "      <th></th>\n",
       "      <th></th>\n",
       "      <th></th>\n",
       "      <th></th>\n",
       "      <th></th>\n",
       "    </tr>\n",
       "  </thead>\n",
       "  <tbody>\n",
       "    <tr>\n",
       "      <th>2006-01-08</th>\n",
       "      <td>0.625919</td>\n",
       "      <td>0.668466</td>\n",
       "      <td>0.634970</td>\n",
       "      <td>0.780410</td>\n",
       "      <td>0.779691</td>\n",
       "      <td>0.769595</td>\n",
       "      <td>0.719701</td>\n",
       "      <td>0.560801</td>\n",
       "    </tr>\n",
       "    <tr>\n",
       "      <th>2006-01-09</th>\n",
       "      <td>0.833215</td>\n",
       "      <td>0.625919</td>\n",
       "      <td>0.668466</td>\n",
       "      <td>0.634970</td>\n",
       "      <td>0.780410</td>\n",
       "      <td>0.779691</td>\n",
       "      <td>0.769595</td>\n",
       "      <td>0.719701</td>\n",
       "    </tr>\n",
       "    <tr>\n",
       "      <th>2006-01-10</th>\n",
       "      <td>0.868690</td>\n",
       "      <td>0.833215</td>\n",
       "      <td>0.625919</td>\n",
       "      <td>0.668466</td>\n",
       "      <td>0.634970</td>\n",
       "      <td>0.780410</td>\n",
       "      <td>0.779691</td>\n",
       "      <td>0.769595</td>\n",
       "    </tr>\n",
       "    <tr>\n",
       "      <th>2006-01-11</th>\n",
       "      <td>0.877937</td>\n",
       "      <td>0.868690</td>\n",
       "      <td>0.833215</td>\n",
       "      <td>0.625919</td>\n",
       "      <td>0.668466</td>\n",
       "      <td>0.634970</td>\n",
       "      <td>0.780410</td>\n",
       "      <td>0.779691</td>\n",
       "    </tr>\n",
       "    <tr>\n",
       "      <th>2006-01-12</th>\n",
       "      <td>0.879426</td>\n",
       "      <td>0.877937</td>\n",
       "      <td>0.868690</td>\n",
       "      <td>0.833215</td>\n",
       "      <td>0.625919</td>\n",
       "      <td>0.668466</td>\n",
       "      <td>0.634970</td>\n",
       "      <td>0.780410</td>\n",
       "    </tr>\n",
       "  </tbody>\n",
       "</table>\n",
       "</div>"
      ],
      "text/plain": [
       "                Load    Load_1    Load_2    Load_3    Load_4    Load_5  \\\n",
       "Date                                                                     \n",
       "2006-01-08  0.625919  0.668466  0.634970  0.780410  0.779691  0.769595   \n",
       "2006-01-09  0.833215  0.625919  0.668466  0.634970  0.780410  0.779691   \n",
       "2006-01-10  0.868690  0.833215  0.625919  0.668466  0.634970  0.780410   \n",
       "2006-01-11  0.877937  0.868690  0.833215  0.625919  0.668466  0.634970   \n",
       "2006-01-12  0.879426  0.877937  0.868690  0.833215  0.625919  0.668466   \n",
       "\n",
       "              Load_6    Load_7  \n",
       "Date                            \n",
       "2006-01-08  0.719701  0.560801  \n",
       "2006-01-09  0.769595  0.719701  \n",
       "2006-01-10  0.779691  0.769595  \n",
       "2006-01-11  0.780410  0.779691  \n",
       "2006-01-12  0.634970  0.780410  "
      ]
     },
     "execution_count": 31,
     "metadata": {},
     "output_type": "execute_result"
    }
   ],
   "source": [
    "n_lags = 7\n",
    "\n",
    "# We rescale the dataset using the Max value within the training set\n",
    "covid_max = data_df.Load.max()\n",
    "dense_df = build_lagged_df(covid_df.Load / covid_max, n_lags=n_lags)\n",
    "\n",
    "x_train_dense_scaled, x_test_dense_scaled, y_train_dense_scaled, y_test_dense_scaled = train_test_split(\n",
    "    dense_df.drop(columns=['Load']),\n",
    "    dense_df.Load,\n",
    "    test_size=covid_len,\n",
    "    shuffle=False\n",
    ")\n",
    "\n",
    "print(f\"Train set length: {x_train_dense_scaled.shape[0]} | Test set length: {x_test_dense_scaled.shape[0]}\")\n",
    "\n",
    "train_df = dense_df.copy().loc[x_train_dense_scaled.index]\n",
    "train_df.head()"
   ]
  },
  {
   "cell_type": "code",
   "execution_count": 32,
   "metadata": {},
   "outputs": [],
   "source": [
    "prediction = predictor.predict(x_test_dense_scaled.to_numpy())"
   ]
  },
  {
   "cell_type": "code",
   "execution_count": 33,
   "metadata": {},
   "outputs": [],
   "source": [
    "y_pred = pd.Series([y[0] for y in prediction['predictions']], index=x_test_dense_scaled.index)"
   ]
  },
  {
   "cell_type": "code",
   "execution_count": 34,
   "metadata": {},
   "outputs": [],
   "source": [
    "import numpy as np\n",
    "import matplotlib.pyplot as plt\n",
    "\n",
    "def mean_absolute_percentage_error(y_true, y_pred):\n",
    "    return np.mean(np.abs(y_true - y_pred) / y_pred)"
   ]
  },
  {
   "cell_type": "code",
   "execution_count": 35,
   "metadata": {},
   "outputs": [
    {
     "data": {
      "image/png": "[encoded data removed]",
      "text/plain": [
       "<Figure size 1296x432 with 1 Axes>"
      ]
     },
     "metadata": {
      "needs_background": "light"
     },
     "output_type": "display_data"
    }
   ],
   "source": [
    "dense_mape = mean_absolute_percentage_error(y_test_dense_scaled * covid_max, y_pred * covid_max)\n",
    "\n",
    "plt.figure(figsize=(18, 6))\n",
    "plt.title(f\"Feedforward | MAPE: {100 * dense_mape:.2f} %\")\n",
    "plt.plot(y_test_dense_scaled * covid_max, label='Actual')\n",
    "plt.plot(y_pred * covid_max, label='Predicted')\n",
    "plt.legend()\n",
    "plt.grid(0.4)\n",
    "plt.show()"
   ]
  }
 ],
 "metadata": {
  "instance_type": "ml.t3.medium",
  "kernelspec": {
   "display_name": "Python 3 (Data Science)",
   "language": "python",
   "name": "python3__SAGEMAKER_INTERNAL__arn:aws:sagemaker:eu-west-1:470317259841:image/datascience-1.0"
  },
  "language_info": {
   "codemirror_mode": {
    "name": "ipython",
    "version": 3
   },
   "file_extension": ".py",
   "mimetype": "text/x-python",
   "name": "python",
   "nbconvert_exporter": "python",
   "pygments_lexer": "ipython3",
   "version": "3.7.10"
  }
 },
 "nbformat": 4,
 "nbformat_minor": 5
}
